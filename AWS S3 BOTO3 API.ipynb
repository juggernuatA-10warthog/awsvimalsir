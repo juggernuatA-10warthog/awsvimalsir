{
 "cells": [
  {
   "cell_type": "code",
   "execution_count": 39,
   "id": "671022d9",
   "metadata": {
    "scrolled": true
   },
   "outputs": [
    {
     "name": "stdout",
     "output_type": "stream",
     "text": [
      "AWS s3 bucket created successfully\n"
     ]
    }
   ],
   "source": [
    "import boto3\n",
    "AWS_REGION = \"ap-south-1\"\n",
    "resource = boto3.resource(\"s3\", region_name=AWS_REGION)\n",
    "bucket_name = \"tasks3createcli2\"\n",
    "location = {'LocationConstraint': AWS_REGION}\n",
    "bucket = resource.create_bucket(Bucket= bucket_name,CreateBucketConfiguration=location)\n",
    "print(\"AWS s3 bucket created successfully\")\n"
   ]
  },
  {
   "cell_type": "code",
   "execution_count": 47,
   "id": "f77703d7",
   "metadata": {},
   "outputs": [],
   "source": [
    "s3 = boto3.client(\"s3\")"
   ]
  },
  {
   "cell_type": "code",
   "execution_count": 48,
   "id": "0d494610",
   "metadata": {},
   "outputs": [],
   "source": [
    "local_file_path = '/Users/siddharth/Downloads/510639.jpg'\n",
    "s3_key = 'firstimg.jpg'\n"
   ]
  },
  {
   "cell_type": "code",
   "execution_count": 50,
   "id": "2ca69c6c",
   "metadata": {
    "scrolled": true
   },
   "outputs": [],
   "source": [
    "s3.upload_file( local_file_path , bucket_name , s3_key)\n"
   ]
  },
  {
   "cell_type": "code",
   "execution_count": 51,
   "id": "7c5c98fc",
   "metadata": {},
   "outputs": [
    {
     "data": {
      "text/plain": [
       "{'ResponseMetadata': {'RequestId': '4TJB1AQXY56XNDXC',\n",
       "  'HostId': 'p5Umhhq2AQsPHzCj0VfVO/nKL01pc/YB8LZn+ItU8L8ZOmWXXVk3Efvd5+OShh3xY9eni4ecbYM=',\n",
       "  'HTTPStatusCode': 200,\n",
       "  'HTTPHeaders': {'x-amz-id-2': 'p5Umhhq2AQsPHzCj0VfVO/nKL01pc/YB8LZn+ItU8L8ZOmWXXVk3Efvd5+OShh3xY9eni4ecbYM=',\n",
       "   'x-amz-request-id': '4TJB1AQXY56XNDXC',\n",
       "   'date': 'Sat, 19 Aug 2023 09:11:27 GMT',\n",
       "   'x-amz-bucket-region': 'ap-south-1',\n",
       "   'content-type': 'application/xml',\n",
       "   'transfer-encoding': 'chunked',\n",
       "   'server': 'AmazonS3'},\n",
       "  'RetryAttempts': 0},\n",
       " 'IsTruncated': False,\n",
       " 'Marker': '',\n",
       " 'Contents': [{'Key': 'firstimg.jpg',\n",
       "   'LastModified': datetime.datetime(2023, 8, 19, 9, 8, 31, tzinfo=tzutc()),\n",
       "   'ETag': '\"b1ea36210398364fee63fde7f6886e2f\"',\n",
       "   'Size': 82235,\n",
       "   'StorageClass': 'STANDARD',\n",
       "   'Owner': {'ID': '22550131ed62b045e7f35bfc2c76e9338a296172dd9ff63ae553eee3e7fd3762'}}],\n",
       " 'Name': 'tasks3createcli2',\n",
       " 'Prefix': '',\n",
       " 'MaxKeys': 1000,\n",
       " 'EncodingType': 'url'}"
      ]
     },
     "execution_count": 51,
     "metadata": {},
     "output_type": "execute_result"
    }
   ],
   "source": [
    "s3.list_objects(Bucket=bucket_name)"
   ]
  },
  {
   "cell_type": "code",
   "execution_count": 56,
   "id": "78483449",
   "metadata": {},
   "outputs": [],
   "source": [
    "s3.download_file(Bucket=bucket_name, Key=s3_key, Filename=\"abcd.jpg\" )"
   ]
  },
  {
   "cell_type": "code",
   "execution_count": null,
   "id": "d9602966",
   "metadata": {},
   "outputs": [],
   "source": []
  }
 ],
 "metadata": {
  "kernelspec": {
   "display_name": "Python 3 (ipykernel)",
   "language": "python",
   "name": "python3"
  },
  "language_info": {
   "codemirror_mode": {
    "name": "ipython",
    "version": 3
   },
   "file_extension": ".py",
   "mimetype": "text/x-python",
   "name": "python",
   "nbconvert_exporter": "python",
   "pygments_lexer": "ipython3",
   "version": "3.9.12"
  }
 },
 "nbformat": 4,
 "nbformat_minor": 5
}
